{
 "cells": [
  {
   "cell_type": "markdown",
   "metadata": {},
   "source": [
    "# WeatherPy\n",
    "----\n",
    "\n",
    "#### Note\n",
    "* Instructions have been included for each segment. You do not have to follow them exactly, but they are included to help you think through the steps."
   ]
  },
  {
   "cell_type": "code",
   "execution_count": 1,
   "metadata": {
    "scrolled": true
   },
   "outputs": [],
   "source": [
    "# Dependencies and Setup\n",
    "import matplotlib.pyplot as plt\n",
    "import pandas as pd\n",
    "import numpy as np\n",
    "import requests\n",
    "import time\n",
    "from scipy.stats import linregress\n",
    "\n",
    "# Import API key\n",
    "from api_keys import weather_api_key\n",
    "weather_api_key = \"50519145c2c1c990a80c17b2c1257372\"\n",
    "\n",
    "# Incorporated citipy to determine city based on latitude and longitude\n",
    "from citipy import citipy\n",
    "\n",
    "# Output File (CSV)\n",
    "output_data_file = \"output_data/cities.csv\"\n",
    "\n",
    "# Range of latitudes and longitudes\n",
    "lat_range = (-90, 90)\n",
    "lng_range = (-180, 180)"
   ]
  },
  {
   "cell_type": "markdown",
   "metadata": {},
   "source": [
    "## Generate Cities List"
   ]
  },
  {
   "cell_type": "code",
   "execution_count": 2,
   "metadata": {},
   "outputs": [
    {
     "name": "stdout",
     "output_type": "stream",
     "text": [
      "617\n"
     ]
    },
    {
     "data": {
      "text/html": [
       "<div>\n",
       "<style scoped>\n",
       "    .dataframe tbody tr th:only-of-type {\n",
       "        vertical-align: middle;\n",
       "    }\n",
       "\n",
       "    .dataframe tbody tr th {\n",
       "        vertical-align: top;\n",
       "    }\n",
       "\n",
       "    .dataframe thead th {\n",
       "        text-align: right;\n",
       "    }\n",
       "</style>\n",
       "<table border=\"1\" class=\"dataframe\">\n",
       "  <thead>\n",
       "    <tr style=\"text-align: right;\">\n",
       "      <th></th>\n",
       "      <th>lat</th>\n",
       "      <th>lon</th>\n",
       "    </tr>\n",
       "  </thead>\n",
       "  <tbody>\n",
       "    <tr>\n",
       "      <th>0</th>\n",
       "      <td>-35.390687</td>\n",
       "      <td>-154.354712</td>\n",
       "    </tr>\n",
       "    <tr>\n",
       "      <th>1</th>\n",
       "      <td>38.626553</td>\n",
       "      <td>13.965102</td>\n",
       "    </tr>\n",
       "    <tr>\n",
       "      <th>2</th>\n",
       "      <td>-18.232542</td>\n",
       "      <td>-57.118586</td>\n",
       "    </tr>\n",
       "    <tr>\n",
       "      <th>3</th>\n",
       "      <td>-32.757234</td>\n",
       "      <td>-1.527562</td>\n",
       "    </tr>\n",
       "    <tr>\n",
       "      <th>4</th>\n",
       "      <td>-82.027598</td>\n",
       "      <td>-82.799125</td>\n",
       "    </tr>\n",
       "  </tbody>\n",
       "</table>\n",
       "</div>"
      ],
      "text/plain": [
       "         lat         lon\n",
       "0 -35.390687 -154.354712\n",
       "1  38.626553   13.965102\n",
       "2 -18.232542  -57.118586\n",
       "3 -32.757234   -1.527562\n",
       "4 -82.027598  -82.799125"
      ]
     },
     "execution_count": 2,
     "metadata": {},
     "output_type": "execute_result"
    }
   ],
   "source": [
    "# List for holding lat_lngs and cities\n",
    "lat_lngs = []\n",
    "cities = []\n",
    "\n",
    "# Create a set of random lat and lng combinations\n",
    "lats = np.random.uniform(low=-90.000, high=90.000, size=1500)\n",
    "lngs = np.random.uniform(low=-180.000, high=180.000, size=1500)\n",
    "lat_lngs = zip(lats, lngs)\n",
    "\n",
    "# Identify nearest city for each lat, lng combination\n",
    "for lat_lng in lat_lngs:\n",
    "    city = citipy.nearest_city(lat_lng[0], lat_lng[1]).city_name\n",
    "    \n",
    "    # If the city is unique, then add it to a our cities list\n",
    "    if city not in cities:\n",
    "        cities.append(city)\n",
    "\n",
    "# Print the city count to confirm sufficient count\n",
    "print(len(cities))\n",
    "\n",
    "coord_df = pd.DataFrame({\"lat\": lats, \"lon\": lngs})\n",
    "coord_df.head()"
   ]
  },
  {
   "cell_type": "code",
   "execution_count": 3,
   "metadata": {},
   "outputs": [
    {
     "data": {
      "text/html": [
       "<div>\n",
       "<style scoped>\n",
       "    .dataframe tbody tr th:only-of-type {\n",
       "        vertical-align: middle;\n",
       "    }\n",
       "\n",
       "    .dataframe tbody tr th {\n",
       "        vertical-align: top;\n",
       "    }\n",
       "\n",
       "    .dataframe thead th {\n",
       "        text-align: right;\n",
       "    }\n",
       "</style>\n",
       "<table border=\"1\" class=\"dataframe\">\n",
       "  <thead>\n",
       "    <tr style=\"text-align: right;\">\n",
       "      <th></th>\n",
       "      <th>index</th>\n",
       "      <th>city</th>\n",
       "      <th>country</th>\n",
       "    </tr>\n",
       "  </thead>\n",
       "  <tbody>\n",
       "    <tr>\n",
       "      <th>0</th>\n",
       "      <td>694</td>\n",
       "      <td>aykhal</td>\n",
       "      <td>ru</td>\n",
       "    </tr>\n",
       "    <tr>\n",
       "      <th>1</th>\n",
       "      <td>1427</td>\n",
       "      <td>kotelnikovo</td>\n",
       "      <td>ru</td>\n",
       "    </tr>\n",
       "    <tr>\n",
       "      <th>2</th>\n",
       "      <td>1375</td>\n",
       "      <td>mehamn</td>\n",
       "      <td>no</td>\n",
       "    </tr>\n",
       "    <tr>\n",
       "      <th>3</th>\n",
       "      <td>1169</td>\n",
       "      <td>ankazoabo</td>\n",
       "      <td>mg</td>\n",
       "    </tr>\n",
       "    <tr>\n",
       "      <th>4</th>\n",
       "      <td>807</td>\n",
       "      <td>harindanga</td>\n",
       "      <td>in</td>\n",
       "    </tr>\n",
       "    <tr>\n",
       "      <th>...</th>\n",
       "      <td>...</td>\n",
       "      <td>...</td>\n",
       "      <td>...</td>\n",
       "    </tr>\n",
       "    <tr>\n",
       "      <th>551</th>\n",
       "      <td>923</td>\n",
       "      <td>bam</td>\n",
       "      <td>ir</td>\n",
       "    </tr>\n",
       "    <tr>\n",
       "      <th>552</th>\n",
       "      <td>99</td>\n",
       "      <td>punta arenas</td>\n",
       "      <td>cl</td>\n",
       "    </tr>\n",
       "    <tr>\n",
       "      <th>553</th>\n",
       "      <td>799</td>\n",
       "      <td>monte gordo</td>\n",
       "      <td>pt</td>\n",
       "    </tr>\n",
       "    <tr>\n",
       "      <th>554</th>\n",
       "      <td>449</td>\n",
       "      <td>beypur</td>\n",
       "      <td>in</td>\n",
       "    </tr>\n",
       "    <tr>\n",
       "      <th>555</th>\n",
       "      <td>1304</td>\n",
       "      <td>taltal</td>\n",
       "      <td>cl</td>\n",
       "    </tr>\n",
       "  </tbody>\n",
       "</table>\n",
       "<p>556 rows × 3 columns</p>\n",
       "</div>"
      ],
      "text/plain": [
       "     index          city country\n",
       "0      694        aykhal      ru\n",
       "1     1427   kotelnikovo      ru\n",
       "2     1375        mehamn      no\n",
       "3     1169     ankazoabo      mg\n",
       "4      807    harindanga      in\n",
       "..     ...           ...     ...\n",
       "551    923           bam      ir\n",
       "552     99  punta arenas      cl\n",
       "553    799   monte gordo      pt\n",
       "554    449        beypur      in\n",
       "555   1304        taltal      cl\n",
       "\n",
       "[556 rows x 3 columns]"
      ]
     },
     "execution_count": 3,
     "metadata": {},
     "output_type": "execute_result"
    }
   ],
   "source": [
    "city = []\n",
    "country = []\n",
    "\n",
    "for index, row in coord_df.iterrows():\n",
    "    coord_lat=(row[\"lat\"])\n",
    "    coord_lng=(row[\"lon\"])\n",
    "    city_name = citipy.nearest_city(coord_lat, coord_lng).city_name\n",
    "    country_name = citipy.nearest_city(coord_lat, coord_lng).country_code\n",
    "    city.append(city_name)\n",
    "    country.append(country_name)\n",
    "    \n",
    "city_df = pd.DataFrame({\"city\": city, \"country\": country})\n",
    "city_df = city_df.drop_duplicates([\"city\", \"country\"]).sample(n=556).reset_index()\n",
    "city_df"
   ]
  },
  {
   "cell_type": "markdown",
   "metadata": {},
   "source": [
    "### Perform API Calls\n",
    "* Perform a weather check on each city using a series of successive API calls.\n",
    "* Include a print log of each city as it'sbeing processed (with the city number and city name).\n"
   ]
  },
  {
   "cell_type": "code",
   "execution_count": 4,
   "metadata": {},
   "outputs": [
    {
     "name": "stdout",
     "output_type": "stream",
     "text": [
      "Processing record 0: aykhal\n",
      "Processing record 1: kotelnikovo\n",
      "Processing record 2: mehamn\n",
      "Processing record 3: ankazoabo\n",
      "Processing record 4: harindanga\n",
      "Processing record 5: ha giang\n",
      "Processing record 6: gravdal\n",
      "Processing record 7: hervey bay\n",
      "Processing record 8: mahajanga\n",
      "Processing record 9: baykit\n",
      "Processing record 10: chokurdakh\n",
      "Processing record 11: dingle\n",
      "Processing record 12: halmstad\n",
      "Processing record 13: nantucket\n",
      "Processing record 14: faanui\n",
      "Processing record 15: cranbrook\n",
      "Processing record 16: zitiste\n",
      "Processing record 17: san roque\n",
      "Processing record 18: ayagoz\n",
      "City not found. Skipping...\n",
      "Processing record 20: puerto ayora\n",
      "Processing record 21: provideniya\n",
      "Processing record 22: bethel\n",
      "Processing record 23: constitucion\n",
      "Processing record 24: gasa\n",
      "City not found. Skipping...\n",
      "Processing record 26: namibe\n",
      "Processing record 27: japura\n",
      "City not found. Skipping...\n",
      "Processing record 29: sioux lookout\n",
      "Processing record 30: galveston\n",
      "Processing record 31: valuyki\n",
      "Processing record 32: niagara falls\n",
      "Processing record 33: fukue\n",
      "Processing record 34: srednekolymsk\n",
      "Processing record 35: eyl\n",
      "Processing record 36: bambanglipuro\n",
      "Processing record 37: pacific grove\n",
      "Processing record 38: mayumba\n",
      "Processing record 39: premia de mar\n",
      "Processing record 40: mumford\n",
      "Processing record 41: viedma\n",
      "Processing record 42: acapulco\n",
      "Processing record 43: asau\n",
      "Processing record 44: sechura\n",
      "Processing record 45: hay river\n",
      "Processing record 46: mudhol\n",
      "Processing record 47: narsaq\n",
      "City not found. Skipping...\n",
      "Processing record 49: hals\n",
      "Processing record 50: castro\n",
      "Processing record 51: vidosi\n",
      "Processing record 52: altay\n",
      "Processing record 53: roela\n",
      "Processing record 54: yugorsk\n",
      "City not found. Skipping...\n",
      "Processing record 56: hornepayne\n",
      "Processing record 57: laizhou\n",
      "Processing record 58: erzin\n",
      "Processing record 59: nicoya\n",
      "Processing record 60: kamiiso\n",
      "Processing record 61: zemio\n",
      "City not found. Skipping...\n",
      "Processing record 63: askarovo\n",
      "Processing record 64: saint-pierre\n",
      "Processing record 65: aljezur\n",
      "Processing record 66: deputatskiy\n",
      "Processing record 67: san fernando\n",
      "Processing record 68: shangqiu\n",
      "Processing record 69: atar\n",
      "Processing record 70: cairns\n",
      "Processing record 71: oregon\n",
      "Processing record 72: juneau\n",
      "Processing record 73: mackenzie\n",
      "Processing record 74: aktash\n",
      "Processing record 75: folkestone\n",
      "Processing record 76: valea viilor\n",
      "Processing record 77: ovalle\n",
      "Processing record 78: stromness\n",
      "Processing record 79: port hardy\n",
      "Processing record 80: fairbanks\n",
      "Processing record 81: oberengstringen\n",
      "Processing record 82: ouesso\n",
      "City not found. Skipping...\n",
      "Processing record 84: canutama\n",
      "Processing record 85: magway\n",
      "Processing record 86: orsk\n",
      "Processing record 87: churapcha\n",
      "Processing record 88: hofn\n",
      "Processing record 89: coahuayana\n",
      "Processing record 90: hermanus\n",
      "Processing record 91: gornopravdinsk\n",
      "Processing record 92: yangjiang\n",
      "City not found. Skipping...\n",
      "Processing record 94: chekhov\n",
      "City not found. Skipping...\n",
      "Processing record 96: qaanaaq\n",
      "Processing record 97: ardesen\n",
      "Processing record 98: el progreso\n",
      "Processing record 99: christchurch\n",
      "Processing record 100: kuito\n",
      "Processing record 101: kruisfontein\n",
      "City not found. Skipping...\n",
      "Processing record 103: waipawa\n",
      "Processing record 104: santa fe\n",
      "Processing record 105: komsomolskiy\n",
      "Processing record 106: tiznit\n",
      "Processing record 107: almaznyy\n",
      "Processing record 108: gavle\n",
      "Processing record 109: tromso\n",
      "Processing record 110: hambantota\n",
      "City not found. Skipping...\n",
      "Processing record 112: brejo da madre de deus\n",
      "City not found. Skipping...\n",
      "Processing record 114: lavrentiya\n",
      "Processing record 115: ostrowiec swietokrzyski\n",
      "Processing record 116: cidreira\n",
      "Processing record 117: fort nelson\n",
      "Processing record 118: glenluce\n",
      "Processing record 119: airai\n",
      "Processing record 120: vestmanna\n",
      "City not found. Skipping...\n",
      "Processing record 122: pisco\n",
      "Processing record 123: tazovskiy\n",
      "Processing record 124: rumonge\n",
      "Processing record 125: saint-philippe\n",
      "Processing record 126: port alfred\n",
      "Processing record 127: khor\n",
      "Processing record 128: provost\n",
      "Processing record 129: monster\n",
      "Processing record 130: pinsk\n",
      "Processing record 131: flin flon\n",
      "Processing record 132: hun\n",
      "Processing record 133: cape town\n",
      "Processing record 134: hualmay\n",
      "Processing record 135: iquitos\n",
      "Processing record 136: brodnica\n",
      "Processing record 137: lompoc\n",
      "Processing record 138: mon\n",
      "Processing record 139: otradnoye\n",
      "Processing record 140: nikolskoye\n",
      "Processing record 141: okhotsk\n",
      "Processing record 142: klaksvik\n",
      "Processing record 143: katiola\n",
      "Processing record 144: rio gallegos\n",
      "Processing record 145: bereda\n",
      "Processing record 146: mandera\n",
      "Processing record 147: san jose\n",
      "Processing record 148: kuala terengganu\n",
      "City not found. Skipping...\n",
      "Processing record 150: renqiu\n",
      "Processing record 151: bambous virieux\n",
      "Processing record 152: steamboat springs\n",
      "Processing record 153: shihezi\n",
      "Processing record 154: marigot\n",
      "Processing record 155: dauphin\n",
      "Processing record 156: abu samrah\n",
      "Processing record 157: sungurlu\n",
      "Processing record 158: longyan\n",
      "Processing record 159: guerrero negro\n",
      "City not found. Skipping...\n",
      "City not found. Skipping...\n",
      "Processing record 162: georgetown\n",
      "Processing record 163: husavik\n",
      "Processing record 164: rikitea\n",
      "Processing record 165: hami\n",
      "Processing record 166: vaini\n",
      "Processing record 167: pasinler\n",
      "Processing record 168: diphu\n",
      "Processing record 169: karonga\n",
      "Processing record 170: sitka\n",
      "Processing record 171: ushuaia\n",
      "Processing record 172: whitehorse\n",
      "Processing record 173: garissa\n",
      "Processing record 174: oshkosh\n",
      "Processing record 175: raudeberg\n",
      "Processing record 176: butaritari\n",
      "Processing record 177: kuttigen\n",
      "Processing record 178: sungairaya\n",
      "Processing record 179: avera\n",
      "City not found. Skipping...\n",
      "Processing record 181: masallatah\n",
      "Processing record 182: mongo\n",
      "Processing record 183: atambua\n",
      "City not found. Skipping...\n",
      "Processing record 185: hobart\n",
      "Processing record 186: nizhniy tsasuchey\n",
      "Processing record 187: katsuura\n",
      "Processing record 188: polunochnoye\n",
      "Processing record 189: kodiak\n",
      "City not found. Skipping...\n",
      "Processing record 191: cabedelo\n",
      "City not found. Skipping...\n",
      "Processing record 193: touros\n",
      "City not found. Skipping...\n",
      "Processing record 195: broken hill\n",
      "Processing record 196: beloha\n",
      "City not found. Skipping...\n",
      "Processing record 198: cortes\n",
      "Processing record 199: kroya\n",
      "City not found. Skipping...\n",
      "Processing record 201: bow island\n",
      "Processing record 202: clyde\n",
      "Processing record 203: tombouctou\n",
      "Processing record 204: san ramon\n",
      "Processing record 205: naifaru\n",
      "Processing record 206: sept-iles\n",
      "Processing record 207: camacha\n",
      "Processing record 208: norman wells\n",
      "Processing record 209: tadine\n",
      "Processing record 210: puerto escondido\n",
      "Processing record 211: hovd\n",
      "Processing record 212: luderitz\n",
      "Processing record 213: iralaya\n",
      "Processing record 214: pinheiro machado\n",
      "Processing record 215: chuy\n",
      "Processing record 216: gatesville\n",
      "Processing record 217: vieques\n",
      "City not found. Skipping...\n",
      "Processing record 219: los llanos de aridane\n",
      "Processing record 220: tessalit\n",
      "Processing record 221: san joaquin\n",
      "Processing record 222: ancud\n",
      "Processing record 223: tyubuk\n",
      "Processing record 224: hamilton\n",
      "Processing record 225: kloulklubed\n",
      "Processing record 226: grindavik\n",
      "Processing record 227: cockburn town\n",
      "Processing record 228: ahipara\n",
      "Processing record 229: dunedin\n",
      "Processing record 230: shentala\n",
      "Processing record 231: nanortalik\n",
      "Processing record 232: lima\n",
      "Processing record 233: palmer\n",
      "Processing record 234: durban\n",
      "Processing record 235: coquimbo\n",
      "Processing record 236: isangel\n",
      "City not found. Skipping...\n",
      "Processing record 238: lorengau\n",
      "Processing record 239: virginia beach\n",
      "City not found. Skipping...\n",
      "Processing record 241: pronsk\n",
      "Processing record 242: portland\n",
      "Processing record 243: ilulissat\n",
      "Processing record 244: bluff\n",
      "Processing record 245: kamenka\n",
      "Processing record 246: puli\n",
      "Processing record 247: batemans bay\n",
      "Processing record 248: tual\n",
      "City not found. Skipping...\n",
      "Processing record 250: naron\n",
      "Processing record 251: talnakh\n",
      "Processing record 252: ailigandi\n",
      "Processing record 253: saint george\n",
      "Processing record 254: salalah\n",
      "Processing record 255: sorland\n",
      "Processing record 256: luan\n",
      "Processing record 257: tuktoyaktuk\n",
      "Processing record 258: dryden\n",
      "Processing record 259: cap malheureux\n",
      "Processing record 260: boguchany\n"
     ]
    },
    {
     "name": "stdout",
     "output_type": "stream",
     "text": [
      "Processing record 261: arraial do cabo\n",
      "Processing record 262: half moon bay\n",
      "Processing record 263: bay roberts\n",
      "Processing record 264: mataura\n",
      "City not found. Skipping...\n",
      "Processing record 266: alibag\n",
      "Processing record 267: khandyga\n",
      "Processing record 268: port elizabeth\n",
      "Processing record 269: chernyshevskiy\n",
      "City not found. Skipping...\n",
      "Processing record 271: kigorobya\n",
      "City not found. Skipping...\n",
      "Processing record 273: leh\n",
      "City not found. Skipping...\n",
      "Processing record 275: anloga\n",
      "Processing record 276: kysyl-syr\n",
      "Processing record 277: pevek\n",
      "Processing record 278: port moresby\n",
      "Processing record 279: beidao\n",
      "City not found. Skipping...\n",
      "Processing record 281: ridgecrest\n",
      "Processing record 282: turukhansk\n",
      "Processing record 283: xichang\n",
      "Processing record 284: leningradskiy\n",
      "Processing record 285: omboue\n",
      "City not found. Skipping...\n",
      "Processing record 287: ostrovnoy\n",
      "Processing record 288: gusau\n",
      "City not found. Skipping...\n",
      "Processing record 290: altamont\n",
      "Processing record 291: safonovo\n",
      "Processing record 292: clyde river\n",
      "Processing record 293: londonderry\n",
      "Processing record 294: romny\n",
      "Processing record 295: sicamous\n",
      "Processing record 296: upernavik\n",
      "Processing record 297: alyangula\n",
      "Processing record 298: medina\n",
      "Processing record 299: north platte\n",
      "Processing record 300: krasnoselkup\n",
      "City not found. Skipping...\n",
      "Processing record 302: salekhard\n",
      "Processing record 303: puerto leguizamo\n",
      "Processing record 304: weatherford\n",
      "Processing record 305: port blair\n",
      "Processing record 306: geraldton\n",
      "Processing record 307: port hedland\n",
      "Processing record 308: olhao\n",
      "Processing record 309: saint-augustin\n",
      "Processing record 310: grand forks\n",
      "Processing record 311: lodja\n",
      "Processing record 312: kibala\n",
      "Processing record 313: hithadhoo\n",
      "Processing record 314: abay\n",
      "Processing record 315: yulara\n",
      "Processing record 316: shimoda\n",
      "Processing record 317: maymyo\n",
      "Processing record 318: busselton\n",
      "Processing record 319: kaka\n",
      "Processing record 320: rudbar\n",
      "Processing record 321: kavieng\n",
      "Processing record 322: santa isabel do rio negro\n",
      "Processing record 323: rognan\n",
      "Processing record 324: oistins\n",
      "Processing record 325: kota belud\n",
      "Processing record 326: japaratuba\n",
      "Processing record 327: yellowknife\n",
      "Processing record 328: honningsvag\n",
      "Processing record 329: aden\n",
      "Processing record 330: bar harbor\n",
      "Processing record 331: filadelfia\n",
      "Processing record 332: kollam\n",
      "Processing record 333: krasnorechenskiy\n",
      "Processing record 334: centralia\n",
      "Processing record 335: dandong\n",
      "Processing record 336: kyakhta\n",
      "Processing record 337: patu\n",
      "Processing record 338: paita\n",
      "Processing record 339: mount gambier\n",
      "Processing record 340: atuona\n",
      "Processing record 341: miles city\n",
      "Processing record 342: tukrah\n",
      "Processing record 343: victor harbor\n",
      "Processing record 344: minab\n",
      "Processing record 345: longyearbyen\n",
      "Processing record 346: matamoros\n",
      "Processing record 347: hilo\n",
      "Processing record 348: carnarvon\n",
      "Processing record 349: ribeira brava\n",
      "Processing record 350: diebougou\n",
      "Processing record 351: asfi\n",
      "Processing record 352: itami\n",
      "Processing record 353: zhaotong\n",
      "Processing record 354: albany\n",
      "Processing record 355: tiksi\n",
      "Processing record 356: macheng\n",
      "Processing record 357: avarua\n",
      "Processing record 358: high level\n",
      "Processing record 359: candido mendes\n",
      "Processing record 360: tasiilaq\n",
      "Processing record 361: bom jesus\n",
      "Processing record 362: yenagoa\n",
      "Processing record 363: fairview\n",
      "Processing record 364: yining\n",
      "Processing record 365: kitob\n",
      "Processing record 366: hendrina\n",
      "Processing record 367: meulaboh\n",
      "Processing record 368: port-gentil\n",
      "Processing record 369: bomet\n",
      "Processing record 370: thompson\n",
      "Processing record 371: zhezkazgan\n",
      "Processing record 372: treinta y tres\n",
      "Processing record 373: lebu\n",
      "Processing record 374: jumla\n",
      "Processing record 375: marzuq\n",
      "Processing record 376: galesong\n",
      "Processing record 377: bossier city\n",
      "Processing record 378: manokwari\n",
      "Processing record 379: cabo san lucas\n",
      "Processing record 380: chifeng\n",
      "Processing record 381: tashtyp\n",
      "City not found. Skipping...\n",
      "Processing record 383: barrow\n",
      "Processing record 384: salou\n",
      "Processing record 385: oriximina\n",
      "Processing record 386: cuernavaca\n",
      "Processing record 387: bagdarin\n",
      "Processing record 388: suntar\n",
      "Processing record 389: caravelas\n",
      "Processing record 390: saldanha\n",
      "Processing record 391: saint anthony\n",
      "Processing record 392: sao joao da barra\n",
      "Processing record 393: lasa\n",
      "Processing record 394: buraydah\n",
      "Processing record 395: seoul\n",
      "Processing record 396: nioro\n",
      "Processing record 397: tocopilla\n",
      "Processing record 398: sillod\n",
      "Processing record 399: ponta delgada\n",
      "Processing record 400: huallanca\n",
      "Processing record 401: mikhaylovka\n",
      "Processing record 402: santa maria\n",
      "Processing record 403: conakry\n",
      "Processing record 404: jacareacanga\n",
      "Processing record 405: rezekne\n",
      "Processing record 406: satipo\n",
      "Processing record 407: pitimbu\n",
      "Processing record 408: bakchar\n",
      "Processing record 409: nouakchott\n",
      "City not found. Skipping...\n",
      "Processing record 411: port macquarie\n",
      "Processing record 412: la curva\n",
      "City not found. Skipping...\n",
      "Processing record 414: faxinal\n",
      "Processing record 415: cefalu\n",
      "Processing record 416: mangan\n",
      "Processing record 417: makakilo city\n",
      "Processing record 418: port augusta\n",
      "Processing record 419: rurrenabaque\n",
      "Processing record 420: bluefield\n",
      "Processing record 421: east london\n",
      "Processing record 422: narayanpet\n",
      "Processing record 423: rexburg\n",
      "Processing record 424: garoua boulai\n",
      "Processing record 425: kavaratti\n",
      "Processing record 426: krasnyye chetai\n",
      "Processing record 427: luchegorsk\n",
      "Processing record 428: ponta do sol\n",
      "Processing record 429: richards bay\n",
      "Processing record 430: nuevo progreso\n",
      "Processing record 431: khatanga\n",
      "Processing record 432: tevaitoa\n",
      "City not found. Skipping...\n",
      "Processing record 434: mokhsogollokh\n",
      "Processing record 435: lovozero\n",
      "Processing record 436: fortuna\n",
      "Processing record 437: coracao de jesus\n",
      "Processing record 438: wasilla\n",
      "City not found. Skipping...\n",
      "City not found. Skipping...\n",
      "Processing record 441: puerto madryn\n",
      "Processing record 442: severo-kurilsk\n",
      "Processing record 443: margate\n",
      "Processing record 444: kostyantynivka\n",
      "Processing record 445: kaitangata\n",
      "Processing record 446: mattru\n",
      "Processing record 447: nikel\n",
      "Processing record 448: roald\n",
      "Processing record 449: vila franca do campo\n",
      "Processing record 450: bandarbeyla\n",
      "City not found. Skipping...\n",
      "Processing record 452: itarema\n",
      "Processing record 453: bredasdorp\n",
      "Processing record 454: tagusao\n",
      "Processing record 455: ternate\n",
      "Processing record 456: bonavista\n",
      "City not found. Skipping...\n",
      "Processing record 458: nome\n",
      "City not found. Skipping...\n",
      "Processing record 460: celestun\n",
      "Processing record 461: mandalgovi\n",
      "Processing record 462: mar del plata\n",
      "Processing record 463: sambava\n",
      "Processing record 464: ulladulla\n",
      "Processing record 465: noumea\n",
      "City not found. Skipping...\n",
      "Processing record 467: ketchikan\n",
      "Processing record 468: trincomalee\n",
      "Processing record 469: esperance\n",
      "Processing record 470: wake forest\n",
      "City not found. Skipping...\n",
      "Processing record 472: adrar\n",
      "Processing record 473: chara\n",
      "Processing record 474: sao filipe\n",
      "Processing record 475: ewa beach\n",
      "Processing record 476: new norfolk\n",
      "Processing record 477: urumqi\n",
      "Processing record 478: coracora\n",
      "Processing record 479: torbay\n",
      "City not found. Skipping...\n",
      "Processing record 481: helena\n",
      "Processing record 482: kerman\n",
      "Processing record 483: madison\n",
      "Processing record 484: yambio\n",
      "Processing record 485: faya\n",
      "City not found. Skipping...\n",
      "Processing record 487: ayan\n",
      "Processing record 488: kenai\n",
      "Processing record 489: tautira\n",
      "Processing record 490: oktyabrskiy\n",
      "Processing record 491: vila velha\n",
      "Processing record 492: praia da vitoria\n",
      "Processing record 493: souillac\n",
      "Processing record 494: alta floresta\n",
      "Processing record 495: lata\n",
      "Processing record 496: iwanai\n",
      "Processing record 497: clermont\n",
      "Processing record 498: bengkulu\n",
      "Processing record 499: esmeralda\n",
      "Processing record 500: alice springs\n",
      "Processing record 501: arlit\n",
      "Processing record 502: bilma\n",
      "City not found. Skipping...\n",
      "Processing record 504: banda aceh\n",
      "Processing record 505: iqaluit\n",
      "Processing record 506: bad liebenwerda\n",
      "Processing record 507: naze\n",
      "Processing record 508: nuuk\n",
      "Processing record 509: kargasok\n",
      "Processing record 510: zyryanka\n",
      "Processing record 511: sirawai\n",
      "Processing record 512: sangueya\n",
      "Processing record 513: keokuk\n",
      "Processing record 514: paamiut\n"
     ]
    },
    {
     "name": "stdout",
     "output_type": "stream",
     "text": [
      "Processing record 515: riyadh\n",
      "Processing record 516: camocim\n",
      "Processing record 517: saint-leu\n",
      "Processing record 518: heihe\n",
      "Processing record 519: imbituba\n",
      "Processing record 520: larsnes\n",
      "Processing record 521: beringovskiy\n",
      "City not found. Skipping...\n",
      "Processing record 523: anadyr\n",
      "Processing record 524: vagur\n",
      "Processing record 525: codrington\n",
      "City not found. Skipping...\n",
      "Processing record 527: suluq\n",
      "Processing record 528: skegness\n",
      "Processing record 529: huron\n",
      "Processing record 530: victoria\n",
      "Processing record 531: erenhot\n",
      "Processing record 532: lagoa\n",
      "Processing record 533: liberal\n",
      "Processing record 534: taoudenni\n",
      "Processing record 535: antsohihy\n",
      "Processing record 536: mekhe\n",
      "Processing record 537: gravelbourg\n",
      "Processing record 538: puerto quijarro\n",
      "Processing record 539: hasaki\n",
      "Processing record 540: mashhad\n",
      "Processing record 541: dzaoudzi\n",
      "City not found. Skipping...\n",
      "Processing record 543: linqiong\n",
      "Processing record 544: la ronge\n",
      "Processing record 545: vardo\n",
      "Processing record 546: marawi\n",
      "Processing record 547: fallon\n",
      "Processing record 548: san patricio\n",
      "Processing record 549: nadvoitsy\n",
      "Processing record 550: padang\n",
      "Processing record 551: bam\n",
      "Processing record 552: punta arenas\n",
      "Processing record 553: monte gordo\n",
      "City not found. Skipping...\n",
      "Processing record 555: taltal\n"
     ]
    }
   ],
   "source": [
    "weather_df = []\n",
    "url = \"http://api.openweathermap.org/data/2.5/weather?\"\n",
    "units = \"imperial\"\n",
    "query_url = url + \"appid=\" + weather_api_key + \"&units=\" + units + \"&q=\"\n",
    "\n",
    "for index, row in city_df.iterrows():\n",
    "        city=row[\"city\"]\n",
    "        response = requests.get(query_url + city).json()\n",
    "        \n",
    "        try:\n",
    "            temp = response[\"main\"][\"temp\"]\n",
    "            clouds = response[\"clouds\"][\"all\"]\n",
    "            humidity = response[\"main\"][\"humidity\"]\n",
    "            lat = response[\"coord\"][\"lat\"]\n",
    "            lon = response[\"coord\"][\"lon\"]\n",
    "            wind_speed = response[\"wind\"][\"speed\"]\n",
    "            cities = response[\"name\"]\n",
    "            country = response[\"sys\"][\"country\"]\n",
    "            weather_df.append({\"City\": cities, \"Country\": country, \"Latitude\": lat, \"Longitude\": lon,\n",
    "                              \"Temperature (F)\": temp,  \"Cloudiness (%)\":clouds, \n",
    "                              \"Humidity (%)\": humidity, \"Wind Speed (MPH)\": wind_speed})\n",
    "            print (f\"Processing record {index}: {city}\")\n",
    "        except:\n",
    "            print (\"City not found. Skipping...\")\n",
    "            "
   ]
  },
  {
   "cell_type": "markdown",
   "metadata": {},
   "source": [
    "### Convert Raw Data to DataFrame\n",
    "* Export the city data into a .csv.\n",
    "* Display the DataFrame"
   ]
  },
  {
   "cell_type": "code",
   "execution_count": 5,
   "metadata": {},
   "outputs": [
    {
     "data": {
      "text/html": [
       "<div>\n",
       "<style scoped>\n",
       "    .dataframe tbody tr th:only-of-type {\n",
       "        vertical-align: middle;\n",
       "    }\n",
       "\n",
       "    .dataframe tbody tr th {\n",
       "        vertical-align: top;\n",
       "    }\n",
       "\n",
       "    .dataframe thead th {\n",
       "        text-align: right;\n",
       "    }\n",
       "</style>\n",
       "<table border=\"1\" class=\"dataframe\">\n",
       "  <thead>\n",
       "    <tr style=\"text-align: right;\">\n",
       "      <th></th>\n",
       "      <th>City</th>\n",
       "      <th>Country</th>\n",
       "      <th>Latitude</th>\n",
       "      <th>Longitude</th>\n",
       "      <th>Temperature (F)</th>\n",
       "      <th>Cloudiness (%)</th>\n",
       "      <th>Humidity (%)</th>\n",
       "      <th>Wind Speed (MPH)</th>\n",
       "    </tr>\n",
       "  </thead>\n",
       "  <tbody>\n",
       "    <tr>\n",
       "      <th>0</th>\n",
       "      <td>Aykhal</td>\n",
       "      <td>RU</td>\n",
       "      <td>66.00</td>\n",
       "      <td>111.50</td>\n",
       "      <td>24.80</td>\n",
       "      <td>89</td>\n",
       "      <td>73</td>\n",
       "      <td>8.95</td>\n",
       "    </tr>\n",
       "    <tr>\n",
       "      <th>1</th>\n",
       "      <td>Kotelnikowo</td>\n",
       "      <td>RU</td>\n",
       "      <td>47.63</td>\n",
       "      <td>43.15</td>\n",
       "      <td>41.70</td>\n",
       "      <td>3</td>\n",
       "      <td>66</td>\n",
       "      <td>10.83</td>\n",
       "    </tr>\n",
       "    <tr>\n",
       "      <th>2</th>\n",
       "      <td>Mehamn</td>\n",
       "      <td>NO</td>\n",
       "      <td>71.04</td>\n",
       "      <td>27.85</td>\n",
       "      <td>20.98</td>\n",
       "      <td>85</td>\n",
       "      <td>92</td>\n",
       "      <td>4.47</td>\n",
       "    </tr>\n",
       "    <tr>\n",
       "      <th>3</th>\n",
       "      <td>Ankazoabo</td>\n",
       "      <td>MG</td>\n",
       "      <td>-22.28</td>\n",
       "      <td>44.52</td>\n",
       "      <td>72.57</td>\n",
       "      <td>100</td>\n",
       "      <td>62</td>\n",
       "      <td>4.36</td>\n",
       "    </tr>\n",
       "    <tr>\n",
       "      <th>4</th>\n",
       "      <td>Harindānga</td>\n",
       "      <td>IN</td>\n",
       "      <td>22.04</td>\n",
       "      <td>88.32</td>\n",
       "      <td>75.20</td>\n",
       "      <td>20</td>\n",
       "      <td>69</td>\n",
       "      <td>3.36</td>\n",
       "    </tr>\n",
       "  </tbody>\n",
       "</table>\n",
       "</div>"
      ],
      "text/plain": [
       "          City Country  Latitude  Longitude  Temperature (F)  Cloudiness (%)  \\\n",
       "0       Aykhal      RU     66.00     111.50            24.80              89   \n",
       "1  Kotelnikowo      RU     47.63      43.15            41.70               3   \n",
       "2       Mehamn      NO     71.04      27.85            20.98              85   \n",
       "3    Ankazoabo      MG    -22.28      44.52            72.57             100   \n",
       "4   Harindānga      IN     22.04      88.32            75.20              20   \n",
       "\n",
       "   Humidity (%)  Wind Speed (MPH)  \n",
       "0            73              8.95  \n",
       "1            66             10.83  \n",
       "2            92              4.47  \n",
       "3            62              4.36  \n",
       "4            69              3.36  "
      ]
     },
     "execution_count": 5,
     "metadata": {},
     "output_type": "execute_result"
    }
   ],
   "source": [
    "weather_data=pd.DataFrame(weather_df)\n",
    "weather_data.head()"
   ]
  },
  {
   "cell_type": "code",
   "execution_count": 6,
   "metadata": {},
   "outputs": [
    {
     "data": {
      "text/plain": [
       "City                503\n",
       "Country             503\n",
       "Latitude            503\n",
       "Longitude           503\n",
       "Temperature (F)     503\n",
       "Cloudiness (%)      503\n",
       "Humidity (%)        503\n",
       "Wind Speed (MPH)    503\n",
       "dtype: int64"
      ]
     },
     "execution_count": 6,
     "metadata": {},
     "output_type": "execute_result"
    }
   ],
   "source": [
    "weather_data.count()"
   ]
  },
  {
   "cell_type": "code",
   "execution_count": 7,
   "metadata": {},
   "outputs": [],
   "source": [
    "weather_data.to_csv(r'C:\\Users\\mseid\\UCBWork\\python_api_challenge\\output_data\\weather_data.csv', index=False, header=True)"
   ]
  },
  {
   "cell_type": "markdown",
   "metadata": {},
   "source": [
    "### Plotting the Data\n",
    "* Use proper labeling of the plots using plot titles (including date of analysis) and axes labels.\n",
    "* Save the plotted figures as .pngs."
   ]
  },
  {
   "cell_type": "markdown",
   "metadata": {},
   "source": [
    "#### Latitude vs. Temperature Plot"
   ]
  },
  {
   "cell_type": "code",
   "execution_count": 8,
   "metadata": {
    "scrolled": true
   },
   "outputs": [
    {
     "data": {
      "image/png": "[encoded data removed]",
      "text/plain": [
       "<Figure size 432x288 with 1 Axes>"
      ]
     },
     "metadata": {
      "needs_background": "light"
     },
     "output_type": "display_data"
    }
   ],
   "source": [
    "plt.scatter(weather_data[\"Latitude\"], weather_data[\"Temperature (F)\"], marker=\"o\", facecolors=\"blue\", edgecolors=\"black\")\n",
    "plt.title(\"City Latitude vs. Max Temperature\")\n",
    "plt.xlabel(\"Latitude\")\n",
    "plt.ylabel(\"Max Temperature (F)\")\n",
    "plt.grid()\n",
    "\n",
    "plt.savefig(r'C:\\Users\\mseid\\UCBWork\\python_api_challenge\\output_data\\lat_vs_temp.png')\n",
    "plt.show()\n",
    "\n",
    "#This plot shows that max temperature goes up the closer it is to 0 latitude, \n",
    "#and the max temperature is lower the further it gets away from 0 latitude, there is a strong correlation"
   ]
  },
  {
   "cell_type": "markdown",
   "metadata": {},
   "source": [
    "#### Latitude vs. Humidity Plot"
   ]
  },
  {
   "cell_type": "code",
   "execution_count": 9,
   "metadata": {},
   "outputs": [
    {
     "data": {
      "image/png": "[encoded data removed]",
      "text/plain": [
       "<Figure size 432x288 with 1 Axes>"
      ]
     },
     "metadata": {
      "needs_background": "light"
     },
     "output_type": "display_data"
    }
   ],
   "source": [
    "plt.scatter(weather_data[\"Latitude\"], weather_data[\"Humidity (%)\"], marker=\"o\", facecolors=\"blue\", edgecolors=\"black\")\n",
    "plt.title(\"City Latitude vs. Humidity (%)\")\n",
    "plt.xlabel(\"Latitude\")\n",
    "plt.ylabel(\"Humidity (%)\")\n",
    "plt.grid()\n",
    "\n",
    "plt.savefig(r'C:\\Users\\mseid\\UCBWork\\python_api_challenge\\output_data\\lat_vs_humidity.png')\n",
    "plt.show()\n",
    "\n",
    "#There appears to be no correlation between latitude and humidty"
   ]
  },
  {
   "cell_type": "markdown",
   "metadata": {},
   "source": [
    "#### Latitude vs. Cloudiness Plot"
   ]
  },
  {
   "cell_type": "code",
   "execution_count": 10,
   "metadata": {},
   "outputs": [
    {
     "data": {
      "image/png": "[encoded data removed]",
      "text/plain": [
       "<Figure size 432x288 with 1 Axes>"
      ]
     },
     "metadata": {
      "needs_background": "light"
     },
     "output_type": "display_data"
    }
   ],
   "source": [
    "plt.scatter(weather_data[\"Latitude\"], weather_data[\"Cloudiness (%)\"], marker=\"o\", facecolors=\"blue\", edgecolors=\"black\")\n",
    "plt.title(\"City Latitude vs. Cloudiness (%)\")\n",
    "plt.xlabel(\"Latitude\")\n",
    "plt.ylabel(\"Cloudiness (%)\")\n",
    "plt.grid()\n",
    "\n",
    "plt.savefig(r'C:\\Users\\mseid\\UCBWork\\python_api_challenge\\output_data\\lat_vs_clouds.png')\n",
    "plt.show()\n",
    "\n",
    "#There appears to be no correlation between cloudiness and humidity"
   ]
  },
  {
   "cell_type": "markdown",
   "metadata": {},
   "source": [
    "#### Latitude vs. Wind Speed Plot"
   ]
  },
  {
   "cell_type": "code",
   "execution_count": 11,
   "metadata": {},
   "outputs": [
    {
     "data": {
      "image/png": "[encoded data removed]",
      "text/plain": [
       "<Figure size 432x288 with 1 Axes>"
      ]
     },
     "metadata": {
      "needs_background": "light"
     },
     "output_type": "display_data"
    }
   ],
   "source": [
    "plt.scatter(weather_data[\"Latitude\"], weather_data[\"Wind Speed (MPH)\"], marker=\"o\", facecolors=\"blue\", edgecolors=\"black\")\n",
    "plt.title(\"City Latitude vs. Wind Speed (MPH)\")\n",
    "plt.xlabel(\"Latitude\")\n",
    "plt.ylabel(\"Wind Speed (MPH)\")\n",
    "plt.grid()\n",
    "\n",
    "plt.savefig(r'C:\\Users\\mseid\\UCBWork\\python_api_challenge\\output_data\\lat_vs_wind.png')\n",
    "plt.show()\n",
    "\n",
    "#There appears to be very little correlation between latitude and wind speed, \n",
    "#there are slightly higher speeds closer to 80 latitude"
   ]
  },
  {
   "cell_type": "markdown",
   "metadata": {},
   "source": [
    "## Linear Regression"
   ]
  },
  {
   "cell_type": "code",
   "execution_count": 12,
   "metadata": {},
   "outputs": [],
   "source": [
    "# OPTIONAL: Create a function to create Linear Regression plots\n"
   ]
  },
  {
   "cell_type": "code",
   "execution_count": 13,
   "metadata": {},
   "outputs": [
    {
     "data": {
      "text/html": [
       "<div>\n",
       "<style scoped>\n",
       "    .dataframe tbody tr th:only-of-type {\n",
       "        vertical-align: middle;\n",
       "    }\n",
       "\n",
       "    .dataframe tbody tr th {\n",
       "        vertical-align: top;\n",
       "    }\n",
       "\n",
       "    .dataframe thead th {\n",
       "        text-align: right;\n",
       "    }\n",
       "</style>\n",
       "<table border=\"1\" class=\"dataframe\">\n",
       "  <thead>\n",
       "    <tr style=\"text-align: right;\">\n",
       "      <th></th>\n",
       "      <th>City</th>\n",
       "      <th>Country</th>\n",
       "      <th>Latitude</th>\n",
       "      <th>Longitude</th>\n",
       "      <th>Temperature (F)</th>\n",
       "      <th>Cloudiness (%)</th>\n",
       "      <th>Humidity (%)</th>\n",
       "      <th>Wind Speed (MPH)</th>\n",
       "    </tr>\n",
       "  </thead>\n",
       "  <tbody>\n",
       "    <tr>\n",
       "      <th>3</th>\n",
       "      <td>Ankazoabo</td>\n",
       "      <td>MG</td>\n",
       "      <td>-22.28</td>\n",
       "      <td>44.52</td>\n",
       "      <td>72.57</td>\n",
       "      <td>100</td>\n",
       "      <td>62</td>\n",
       "      <td>4.36</td>\n",
       "    </tr>\n",
       "    <tr>\n",
       "      <th>7</th>\n",
       "      <td>Hervey Bay</td>\n",
       "      <td>AU</td>\n",
       "      <td>-25.30</td>\n",
       "      <td>152.85</td>\n",
       "      <td>67.08</td>\n",
       "      <td>40</td>\n",
       "      <td>72</td>\n",
       "      <td>6.73</td>\n",
       "    </tr>\n",
       "    <tr>\n",
       "      <th>8</th>\n",
       "      <td>Mahajanga</td>\n",
       "      <td>MG</td>\n",
       "      <td>-15.72</td>\n",
       "      <td>46.32</td>\n",
       "      <td>78.17</td>\n",
       "      <td>27</td>\n",
       "      <td>74</td>\n",
       "      <td>9.82</td>\n",
       "    </tr>\n",
       "    <tr>\n",
       "      <th>14</th>\n",
       "      <td>Faanui</td>\n",
       "      <td>PF</td>\n",
       "      <td>-16.48</td>\n",
       "      <td>-151.75</td>\n",
       "      <td>82.60</td>\n",
       "      <td>56</td>\n",
       "      <td>77</td>\n",
       "      <td>12.66</td>\n",
       "    </tr>\n",
       "    <tr>\n",
       "      <th>19</th>\n",
       "      <td>Puerto Ayora</td>\n",
       "      <td>EC</td>\n",
       "      <td>-0.74</td>\n",
       "      <td>-90.35</td>\n",
       "      <td>81.57</td>\n",
       "      <td>40</td>\n",
       "      <td>70</td>\n",
       "      <td>6.93</td>\n",
       "    </tr>\n",
       "  </tbody>\n",
       "</table>\n",
       "</div>"
      ],
      "text/plain": [
       "            City Country  Latitude  Longitude  Temperature (F)  \\\n",
       "3      Ankazoabo      MG    -22.28      44.52            72.57   \n",
       "7     Hervey Bay      AU    -25.30     152.85            67.08   \n",
       "8      Mahajanga      MG    -15.72      46.32            78.17   \n",
       "14        Faanui      PF    -16.48    -151.75            82.60   \n",
       "19  Puerto Ayora      EC     -0.74     -90.35            81.57   \n",
       "\n",
       "    Cloudiness (%)  Humidity (%)  Wind Speed (MPH)  \n",
       "3              100            62              4.36  \n",
       "7               40            72              6.73  \n",
       "8               27            74              9.82  \n",
       "14              56            77             12.66  \n",
       "19              40            70              6.93  "
      ]
     },
     "execution_count": 13,
     "metadata": {},
     "output_type": "execute_result"
    }
   ],
   "source": [
    "# Create Northern and Southern Hemisphere DataFrames\n",
    "north_hem = weather_data.loc[weather_data[\"Latitude\"]>0.01]\n",
    "south_hem = weather_data.loc[weather_data[\"Latitude\"]<-0.01]\n",
    "south_hem.head()"
   ]
  },
  {
   "cell_type": "markdown",
   "metadata": {},
   "source": [
    "####  Northern Hemisphere - Max Temp vs. Latitude Linear Regression"
   ]
  },
  {
   "cell_type": "code",
   "execution_count": 14,
   "metadata": {},
   "outputs": [
    {
     "name": "stdout",
     "output_type": "stream",
     "text": [
      "The r-squared is: -0.8918489120175356\n"
     ]
    },
    {
     "data": {
      "image/png": "[encoded data removed]",
      "text/plain": [
       "<Figure size 432x288 with 1 Axes>"
      ]
     },
     "metadata": {
      "needs_background": "light"
     },
     "output_type": "display_data"
    }
   ],
   "source": [
    "x_values = north_hem[\"Latitude\"]\n",
    "y_values = north_hem[\"Temperature (F)\"]\n",
    "(slope, intercept, rvalue, pvalue, stderr) = linregress(x_values, y_values)\n",
    "regress_values = x_values * slope + intercept\n",
    "line_eq = \"y = \" + str(round(slope,2)) + \"x + \" + str(round(intercept,2))\n",
    "plt.scatter(x_values,y_values)\n",
    "plt.plot(x_values,regress_values,\"r-\")\n",
    "plt.annotate(line_eq,(6,10),fontsize=15,color=\"red\")\n",
    "plt.title(\"Northern Hemisphere - Max Temp vs. Latitude Linear Regression\")\n",
    "plt.xlabel('Latitude')\n",
    "plt.ylabel('Temperature(F)')\n",
    "print(f\"The r-squared is: {rvalue}\")\n",
    "\n",
    "plt.savefig(r'C:\\Users\\mseid\\UCBWork\\python_api_challenge\\output_data\\lat_vs_temp_north.png')\n",
    "plt.show()\n",
    "\n",
    "#There is a strong negative correlation between max temp and latitude, the further away from 0 the lower the temp"
   ]
  },
  {
   "cell_type": "markdown",
   "metadata": {},
   "source": [
    "####  Southern Hemisphere - Max Temp vs. Latitude Linear Regression"
   ]
  },
  {
   "cell_type": "code",
   "execution_count": 15,
   "metadata": {},
   "outputs": [
    {
     "name": "stdout",
     "output_type": "stream",
     "text": [
      "The r-squared is: 0.7461437303918969\n"
     ]
    },
    {
     "data": {
      "image/png": "[encoded data removed]",
      "text/plain": [
       "<Figure size 432x288 with 1 Axes>"
      ]
     },
     "metadata": {
      "needs_background": "light"
     },
     "output_type": "display_data"
    }
   ],
   "source": [
    "x_values = south_hem[\"Latitude\"]\n",
    "y_values = south_hem[\"Temperature (F)\"]\n",
    "(slope, intercept, rvalue, pvalue, stderr) = linregress(x_values, y_values)\n",
    "regress_values = x_values * slope + intercept\n",
    "line_eq = \"y = \" + str(round(slope,2)) + \"x + \" + str(round(intercept,2))\n",
    "plt.scatter(x_values,y_values)\n",
    "plt.plot(x_values,regress_values,\"r-\")\n",
    "plt.annotate(line_eq,(6,10),fontsize=15,color=\"red\")\n",
    "plt.title(\"Southern Hemisphere - Max Temp vs. Latitude Linear Regression\")\n",
    "plt.xlabel('Latitude')\n",
    "plt.ylabel('Temperature(F)')\n",
    "print(f\"The r-squared is: {rvalue}\")\n",
    "\n",
    "plt.savefig(r'C:\\Users\\mseid\\UCBWork\\python_api_challenge\\output_data\\lat_vs_temp_south.png')\n",
    "plt.show()\n",
    "\n",
    "#There is a strong positive correlation between max temp and latitude in the southern hemisphere, \n",
    "#the closer to 0 the higher the temp "
   ]
  },
  {
   "cell_type": "markdown",
   "metadata": {},
   "source": [
    "####  Northern Hemisphere - Humidity (%) vs. Latitude Linear Regression"
   ]
  },
  {
   "cell_type": "code",
   "execution_count": 16,
   "metadata": {},
   "outputs": [
    {
     "name": "stdout",
     "output_type": "stream",
     "text": [
      "The r-squared is: 0.25105968570431686\n"
     ]
    },
    {
     "data": {
      "image/png": "[encoded data removed]",
      "text/plain": [
       "<Figure size 432x288 with 1 Axes>"
      ]
     },
     "metadata": {
      "needs_background": "light"
     },
     "output_type": "display_data"
    }
   ],
   "source": [
    "x_values = north_hem[\"Latitude\"]\n",
    "y_values = north_hem[\"Humidity (%)\"]\n",
    "(slope, intercept, rvalue, pvalue, stderr) = linregress(x_values, y_values)\n",
    "regress_values = x_values * slope + intercept\n",
    "line_eq = \"y = \" + str(round(slope,2)) + \"x + \" + str(round(intercept,2))\n",
    "plt.scatter(x_values,y_values)\n",
    "plt.plot(x_values,regress_values,\"r-\")\n",
    "plt.annotate(line_eq,(6,10),fontsize=15,color=\"red\")\n",
    "plt.title(\"Northern Hemisphere - Humidity (%) vs. Latitude Linear Regression\")\n",
    "plt.xlabel('Latitude')\n",
    "plt.ylabel('Humidity (%)')\n",
    "print(f\"The r-squared is: {rvalue}\")\n",
    "\n",
    "plt.savefig(r'C:\\Users\\mseid\\UCBWork\\python_api_challenge\\output_data\\lat_vs_humidity_north.png')\n",
    "plt.show()\n",
    "\n",
    "#There is a very weak positive correlation between humidity and latitude, \n",
    "#with a slightly higher humidity % being closer to 80 latitude"
   ]
  },
  {
   "cell_type": "markdown",
   "metadata": {},
   "source": [
    "####  Southern Hemisphere - Humidity (%) vs. Latitude Linear Regression"
   ]
  },
  {
   "cell_type": "code",
   "execution_count": 17,
   "metadata": {},
   "outputs": [
    {
     "name": "stdout",
     "output_type": "stream",
     "text": [
      "The r-squared is: 0.1898942190744047\n"
     ]
    },
    {
     "data": {
      "image/png": "[encoded data removed]",
      "text/plain": [
       "<Figure size 432x288 with 1 Axes>"
      ]
     },
     "metadata": {
      "needs_background": "light"
     },
     "output_type": "display_data"
    }
   ],
   "source": [
    "x_values = south_hem[\"Latitude\"]\n",
    "y_values = south_hem[\"Humidity (%)\"]\n",
    "(slope, intercept, rvalue, pvalue, stderr) = linregress(x_values, y_values)\n",
    "regress_values = x_values * slope + intercept\n",
    "line_eq = \"y = \" + str(round(slope,2)) + \"x + \" + str(round(intercept,2))\n",
    "plt.scatter(x_values,y_values)\n",
    "plt.plot(x_values,regress_values,\"r-\")\n",
    "plt.annotate(line_eq,(6,10),fontsize=15,color=\"red\")\n",
    "plt.title(\"Southern Hemisphere - Humidity (%) vs. Latitude Linear Regression\")\n",
    "plt.xlabel('Latitude')\n",
    "plt.ylabel('Humidity (%)')\n",
    "print(f\"The r-squared is: {rvalue}\")\n",
    "\n",
    "plt.savefig(r'C:\\Users\\mseid\\UCBWork\\python_api_challenge\\output_data\\lat_vs_humidity_south.png')\n",
    "plt.show()\n",
    "\n",
    "#There is no correlation between humididty and latiitude in the southern hemisphere"
   ]
  },
  {
   "cell_type": "markdown",
   "metadata": {},
   "source": [
    "####  Northern Hemisphere - Cloudiness (%) vs. Latitude Linear Regression"
   ]
  },
  {
   "cell_type": "code",
   "execution_count": 18,
   "metadata": {},
   "outputs": [
    {
     "name": "stdout",
     "output_type": "stream",
     "text": [
      "The r-squared is: 0.23269637898172504\n"
     ]
    },
    {
     "data": {
      "image/png": "[encoded data removed]",
      "text/plain": [
       "<Figure size 432x288 with 1 Axes>"
      ]
     },
     "metadata": {
      "needs_background": "light"
     },
     "output_type": "display_data"
    }
   ],
   "source": [
    "x_values = north_hem[\"Latitude\"]\n",
    "y_values = north_hem[\"Cloudiness (%)\"]\n",
    "(slope, intercept, rvalue, pvalue, stderr) = linregress(x_values, y_values)\n",
    "regress_values = x_values * slope + intercept\n",
    "line_eq = \"y = \" + str(round(slope,2)) + \"x + \" + str(round(intercept,2))\n",
    "plt.scatter(x_values,y_values)\n",
    "plt.plot(x_values,regress_values,\"r-\")\n",
    "plt.annotate(line_eq,(6,10),fontsize=15,color=\"red\")\n",
    "plt.title(\"Northern Hemisphere - Cloudiness (%)  vs. Latitude Linear Regression\")\n",
    "plt.xlabel('Latitude')\n",
    "plt.ylabel('Cloudiness (%)')\n",
    "print(f\"The r-squared is: {rvalue}\")\n",
    "\n",
    "plt.savefig(r'C:\\Users\\mseid\\UCBWork\\python_api_challenge\\output_data\\lat_vs_clouds_north.png')\n",
    "plt.show()\n",
    "\n",
    "#There is a very weak positive correlation between cloudiness and latitude in the northern hemisphere"
   ]
  },
  {
   "cell_type": "markdown",
   "metadata": {},
   "source": [
    "####  Southern Hemisphere - Cloudiness (%) vs. Latitude Linear Regression"
   ]
  },
  {
   "cell_type": "code",
   "execution_count": 19,
   "metadata": {},
   "outputs": [
    {
     "name": "stdout",
     "output_type": "stream",
     "text": [
      "The r-squared is: 0.035784472774346175\n"
     ]
    },
    {
     "data": {
      "image/png": "[encoded data removed]",
      "text/plain": [
       "<Figure size 432x288 with 1 Axes>"
      ]
     },
     "metadata": {
      "needs_background": "light"
     },
     "output_type": "display_data"
    }
   ],
   "source": [
    "x_values = south_hem[\"Latitude\"]\n",
    "y_values = south_hem[\"Cloudiness (%)\"]\n",
    "(slope, intercept, rvalue, pvalue, stderr) = linregress(x_values, y_values)\n",
    "regress_values = x_values * slope + intercept\n",
    "line_eq = \"y = \" + str(round(slope,2)) + \"x + \" + str(round(intercept,2))\n",
    "plt.scatter(x_values,y_values)\n",
    "plt.plot(x_values,regress_values,\"r-\")\n",
    "plt.annotate(line_eq,(6,10),fontsize=15,color=\"red\")\n",
    "plt.title(\"Southern Hemisphere - Cloudiness (%)  vs. Latitude Linear Regression\")\n",
    "plt.xlabel('Latitude')\n",
    "plt.ylabel('Cloudiness (%)')\n",
    "print(f\"The r-squared is: {rvalue}\")\n",
    "\n",
    "plt.savefig(r'C:\\Users\\mseid\\UCBWork\\python_api_challenge\\output_data\\lat_vs_clouds_south.png')\n",
    "plt.show()\n",
    "\n",
    "#There is no correlation between cloudiness and latitude in the southern hemisphere"
   ]
  },
  {
   "cell_type": "markdown",
   "metadata": {},
   "source": [
    "####  Northern Hemisphere - Wind Speed (mph) vs. Latitude Linear Regression"
   ]
  },
  {
   "cell_type": "code",
   "execution_count": 20,
   "metadata": {},
   "outputs": [
    {
     "name": "stdout",
     "output_type": "stream",
     "text": [
      "The r-squared is: 0.20255219558898763\n"
     ]
    },
    {
     "data": {
      "image/png": "[encoded data removed]",
      "text/plain": [
       "<Figure size 432x288 with 1 Axes>"
      ]
     },
     "metadata": {
      "needs_background": "light"
     },
     "output_type": "display_data"
    }
   ],
   "source": [
    "x_values = north_hem[\"Latitude\"]\n",
    "y_values = north_hem[\"Wind Speed (MPH)\"]\n",
    "(slope, intercept, rvalue, pvalue, stderr) = linregress(x_values, y_values)\n",
    "regress_values = x_values * slope + intercept\n",
    "line_eq = \"y = \" + str(round(slope,2)) + \"x + \" + str(round(intercept,2))\n",
    "plt.scatter(x_values,y_values)\n",
    "plt.plot(x_values,regress_values,\"r-\")\n",
    "plt.annotate(line_eq,(6,10),fontsize=15,color=\"red\")\n",
    "plt.title(\"Northern Hemisphere - Wind Speed (MPH)  vs. Latitude Linear Regression\")\n",
    "plt.xlabel('Latitude')\n",
    "plt.ylabel('Wind Speed (MPH)')\n",
    "print(f\"The r-squared is: {rvalue}\")\n",
    "\n",
    "plt.savefig(r'C:\\Users\\mseid\\UCBWork\\python_api_challenge\\output_data\\lat_vs_winds_north.png')\n",
    "plt.show()\n",
    "\n",
    "#There is very wek to no correlation between wind speed and latitude in the northern hemisphere"
   ]
  },
  {
   "cell_type": "markdown",
   "metadata": {},
   "source": [
    "####  Southern Hemisphere - Wind Speed (mph) vs. Latitude Linear Regression"
   ]
  },
  {
   "cell_type": "code",
   "execution_count": 21,
   "metadata": {},
   "outputs": [
    {
     "name": "stdout",
     "output_type": "stream",
     "text": [
      "The r-squared is: -0.3671602245168333\n"
     ]
    },
    {
     "data": {
      "image/png": "[encoded data removed]",
      "text/plain": [
       "<Figure size 432x288 with 1 Axes>"
      ]
     },
     "metadata": {
      "needs_background": "light"
     },
     "output_type": "display_data"
    }
   ],
   "source": [
    "x_values = south_hem[\"Latitude\"]\n",
    "y_values = south_hem[\"Wind Speed (MPH)\"]\n",
    "(slope, intercept, rvalue, pvalue, stderr) = linregress(x_values, y_values)\n",
    "regress_values = x_values * slope + intercept\n",
    "line_eq = \"y = \" + str(round(slope,2)) + \"x + \" + str(round(intercept,2))\n",
    "plt.scatter(x_values,y_values)\n",
    "plt.plot(x_values,regress_values,\"r-\")\n",
    "plt.annotate(line_eq,(6,10),fontsize=15,color=\"red\")\n",
    "plt.title(\"Southern Hemisphere - Wind Speed (MPH)  vs. Latitude Linear Regression\")\n",
    "plt.xlabel('Latitude')\n",
    "plt.ylabel('Wind Speed (MPH)')\n",
    "print(f\"The r-squared is: {rvalue}\")\n",
    "\n",
    "plt.savefig(r'C:\\Users\\mseid\\UCBWork\\python_api_challenge\\output_data\\lat_vs_winds_south.png')\n",
    "plt.show()\n",
    "\n",
    "#There is a weak negative correlation between wind speed and latitude in the southern hemisphere,\n",
    "#with lower wind speeds being closer to 0 latitude"
   ]
  },
  {
   "cell_type": "code",
   "execution_count": null,
   "metadata": {},
   "outputs": [],
   "source": []
  }
 ],
 "metadata": {
  "anaconda-cloud": {},
  "kernel_info": {
   "name": "python3"
  },
  "kernelspec": {
   "display_name": "Python 3",
   "language": "python",
   "name": "python3"
  },
  "language_info": {
   "codemirror_mode": {
    "name": "ipython",
    "version": 3
   },
   "file_extension": ".py",
   "mimetype": "text/x-python",
   "name": "python",
   "nbconvert_exporter": "python",
   "pygments_lexer": "ipython3",
   "version": "3.7.6"
  },
  "latex_envs": {
   "LaTeX_envs_menu_present": true,
   "autoclose": false,
   "autocomplete": true,
   "bibliofile": "biblio.bib",
   "cite_by": "apalike",
   "current_citInitial": 1,
   "eqLabelWithNumbers": true,
   "eqNumInitial": 1,
   "hotkeys": {
    "equation": "Ctrl-E",
    "itemize": "Ctrl-I"
   },
   "labels_anchors": false,
   "latex_user_defs": false,
   "report_style_numbering": false,
   "user_envs_cfg": false
  },
  "nteract": {
   "version": "0.12.3"
  }
 },
 "nbformat": 4,
 "nbformat_minor": 2
}
