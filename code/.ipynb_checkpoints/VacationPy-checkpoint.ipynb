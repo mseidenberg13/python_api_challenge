{
 "cells": [
  {
   "cell_type": "markdown",
   "metadata": {},
   "source": [
    "# VacationPy\n",
    "----\n",
    "\n",
    "#### Note\n",
    "* Instructions have been included for each segment. You do not have to follow them exactly, but they are included to help you think through the steps."
   ]
  },
  {
   "cell_type": "code",
   "execution_count": 2,
   "metadata": {},
   "outputs": [],
   "source": [
    "# Dependencies and Setup\n",
    "import matplotlib.pyplot as plt\n",
    "import pandas as pd\n",
    "import numpy as np\n",
    "import requests\n",
    "import gmaps\n",
    "import os\n",
    "\n",
    "# Import API key\n",
    "from api_keys import g_key"
   ]
  },
  {
   "cell_type": "markdown",
   "metadata": {},
   "source": [
    "### Store Part I results into DataFrame\n",
    "* Load the csv exported in Part I to a DataFrame"
   ]
  },
  {
   "cell_type": "code",
   "execution_count": 5,
   "metadata": {},
   "outputs": [
    {
     "data": {
      "text/html": [
       "<div>\n",
       "<style scoped>\n",
       "    .dataframe tbody tr th:only-of-type {\n",
       "        vertical-align: middle;\n",
       "    }\n",
       "\n",
       "    .dataframe tbody tr th {\n",
       "        vertical-align: top;\n",
       "    }\n",
       "\n",
       "    .dataframe thead th {\n",
       "        text-align: right;\n",
       "    }\n",
       "</style>\n",
       "<table border=\"1\" class=\"dataframe\">\n",
       "  <thead>\n",
       "    <tr style=\"text-align: right;\">\n",
       "      <th></th>\n",
       "      <th>City</th>\n",
       "      <th>Country</th>\n",
       "      <th>Latitude</th>\n",
       "      <th>Longitude</th>\n",
       "      <th>Temperature (F)</th>\n",
       "      <th>Cloudiness (%)</th>\n",
       "      <th>Humidity (%)</th>\n",
       "      <th>Wind Speed (MPH)</th>\n",
       "    </tr>\n",
       "  </thead>\n",
       "  <tbody>\n",
       "    <tr>\n",
       "      <th>0</th>\n",
       "      <td>Arman'</td>\n",
       "      <td>RU</td>\n",
       "      <td>59.70</td>\n",
       "      <td>150.17</td>\n",
       "      <td>17.20</td>\n",
       "      <td>50</td>\n",
       "      <td>90</td>\n",
       "      <td>2.24</td>\n",
       "    </tr>\n",
       "    <tr>\n",
       "      <th>1</th>\n",
       "      <td>Nantucket</td>\n",
       "      <td>US</td>\n",
       "      <td>41.28</td>\n",
       "      <td>-70.10</td>\n",
       "      <td>47.57</td>\n",
       "      <td>90</td>\n",
       "      <td>87</td>\n",
       "      <td>16.11</td>\n",
       "    </tr>\n",
       "    <tr>\n",
       "      <th>2</th>\n",
       "      <td>Salento</td>\n",
       "      <td>CO</td>\n",
       "      <td>4.64</td>\n",
       "      <td>-75.57</td>\n",
       "      <td>78.80</td>\n",
       "      <td>40</td>\n",
       "      <td>69</td>\n",
       "      <td>5.82</td>\n",
       "    </tr>\n",
       "    <tr>\n",
       "      <th>3</th>\n",
       "      <td>Micheweni</td>\n",
       "      <td>TZ</td>\n",
       "      <td>-4.97</td>\n",
       "      <td>39.83</td>\n",
       "      <td>85.03</td>\n",
       "      <td>28</td>\n",
       "      <td>70</td>\n",
       "      <td>10.63</td>\n",
       "    </tr>\n",
       "    <tr>\n",
       "      <th>4</th>\n",
       "      <td>Villa Carlos Paz</td>\n",
       "      <td>AR</td>\n",
       "      <td>-31.42</td>\n",
       "      <td>-64.50</td>\n",
       "      <td>67.95</td>\n",
       "      <td>28</td>\n",
       "      <td>37</td>\n",
       "      <td>11.41</td>\n",
       "    </tr>\n",
       "  </tbody>\n",
       "</table>\n",
       "</div>"
      ],
      "text/plain": [
       "               City Country  Latitude  Longitude  Temperature (F)  \\\n",
       "0            Arman'      RU     59.70     150.17            17.20   \n",
       "1         Nantucket      US     41.28     -70.10            47.57   \n",
       "2           Salento      CO      4.64     -75.57            78.80   \n",
       "3         Micheweni      TZ     -4.97      39.83            85.03   \n",
       "4  Villa Carlos Paz      AR    -31.42     -64.50            67.95   \n",
       "\n",
       "   Cloudiness (%)  Humidity (%)  Wind Speed (MPH)  \n",
       "0              50            90              2.24  \n",
       "1              90            87             16.11  \n",
       "2              40            69              5.82  \n",
       "3              28            70             10.63  \n",
       "4              28            37             11.41  "
      ]
     },
     "execution_count": 5,
     "metadata": {},
     "output_type": "execute_result"
    }
   ],
   "source": [
    "weather_df = pd.read_csv(r\"C:\\Users\\mseid\\UCBWork\\python_api_challenge\\output_data\\weather_data.csv\")\n",
    "weather_df.head()"
   ]
  },
  {
   "cell_type": "markdown",
   "metadata": {},
   "source": [
    "### Humidity Heatmap\n",
    "* Configure gmaps.\n",
    "* Use the Lat and Lng as locations and Humidity as the weight.\n",
    "* Add Heatmap layer to map."
   ]
  },
  {
   "cell_type": "code",
   "execution_count": 8,
   "metadata": {},
   "outputs": [],
   "source": [
    "gmaps.configure(api_key=g_key)\n",
    "coords = weather_df[[\"Latitude\", \"Longitude\"]]\n",
    "humidity = weather_df[\"Humidity (%)\"].astype(float)"
   ]
  },
  {
   "cell_type": "code",
   "execution_count": 16,
   "metadata": {},
   "outputs": [
    {
     "data": {
      "application/vnd.jupyter.widget-view+json": {
       "model_id": "e26e757b23ab4aa6b2da0c103983e175",
       "version_major": 2,
       "version_minor": 0
      },
      "text/plain": [
       "Figure(layout=FigureLayout(height='420px'))"
      ]
     },
     "metadata": {},
     "output_type": "display_data"
    }
   ],
   "source": [
    "fig = gmaps.figure()\n",
    "\n",
    "heat_layer = gmaps.heatmap_layer(coords, weights=humidity, \n",
    "                                 dissipating=False, max_intensity=100,\n",
    "                                 point_radius=2)\n",
    "fig.add_layer(heat_layer)\n",
    "fig\n"
   ]
  },
  {
   "cell_type": "markdown",
   "metadata": {},
   "source": [
    "### Create new DataFrame fitting weather criteria\n",
    "* Narrow down the cities to fit weather conditions.\n",
    "* Drop any rows will null values."
   ]
  },
  {
   "cell_type": "code",
   "execution_count": 5,
   "metadata": {},
   "outputs": [
    {
     "data": {
      "text/html": [
       "<div>\n",
       "<style scoped>\n",
       "    .dataframe tbody tr th:only-of-type {\n",
       "        vertical-align: middle;\n",
       "    }\n",
       "\n",
       "    .dataframe tbody tr th {\n",
       "        vertical-align: top;\n",
       "    }\n",
       "\n",
       "    .dataframe thead th {\n",
       "        text-align: right;\n",
       "    }\n",
       "</style>\n",
       "<table border=\"1\" class=\"dataframe\">\n",
       "  <thead>\n",
       "    <tr style=\"text-align: right;\">\n",
       "      <th></th>\n",
       "      <th>Unnamed: 0</th>\n",
       "      <th>City</th>\n",
       "      <th>Country</th>\n",
       "      <th>Latitude</th>\n",
       "      <th>Longitude</th>\n",
       "      <th>Temperature (F)</th>\n",
       "      <th>Cloudiness (%)</th>\n",
       "      <th>Humidity (%)</th>\n",
       "      <th>Wind Speed (MPH)</th>\n",
       "    </tr>\n",
       "  </thead>\n",
       "  <tbody>\n",
       "    <tr>\n",
       "      <th>214</th>\n",
       "      <td>214</td>\n",
       "      <td>Vīsāvadar</td>\n",
       "      <td>IN</td>\n",
       "      <td>21.38</td>\n",
       "      <td>70.68</td>\n",
       "      <td>74.64</td>\n",
       "      <td>0</td>\n",
       "      <td>69</td>\n",
       "      <td>6.33</td>\n",
       "    </tr>\n",
       "    <tr>\n",
       "      <th>226</th>\n",
       "      <td>226</td>\n",
       "      <td>Kalamb</td>\n",
       "      <td>IN</td>\n",
       "      <td>19.05</td>\n",
       "      <td>73.95</td>\n",
       "      <td>77.04</td>\n",
       "      <td>0</td>\n",
       "      <td>32</td>\n",
       "      <td>7.58</td>\n",
       "    </tr>\n",
       "    <tr>\n",
       "      <th>328</th>\n",
       "      <td>328</td>\n",
       "      <td>Caborca</td>\n",
       "      <td>MX</td>\n",
       "      <td>30.58</td>\n",
       "      <td>-111.10</td>\n",
       "      <td>71.35</td>\n",
       "      <td>0</td>\n",
       "      <td>56</td>\n",
       "      <td>5.99</td>\n",
       "    </tr>\n",
       "    <tr>\n",
       "      <th>358</th>\n",
       "      <td>358</td>\n",
       "      <td>Cockburn Town</td>\n",
       "      <td>TC</td>\n",
       "      <td>21.46</td>\n",
       "      <td>-71.14</td>\n",
       "      <td>76.89</td>\n",
       "      <td>0</td>\n",
       "      <td>63</td>\n",
       "      <td>8.95</td>\n",
       "    </tr>\n",
       "  </tbody>\n",
       "</table>\n",
       "</div>"
      ],
      "text/plain": [
       "     Unnamed: 0           City Country  Latitude  Longitude  Temperature (F)  \\\n",
       "214         214      Vīsāvadar      IN     21.38      70.68            74.64   \n",
       "226         226         Kalamb      IN     19.05      73.95            77.04   \n",
       "328         328        Caborca      MX     30.58    -111.10            71.35   \n",
       "358         358  Cockburn Town      TC     21.46     -71.14            76.89   \n",
       "\n",
       "     Cloudiness (%)  Humidity (%)  Wind Speed (MPH)  \n",
       "214               0            69              6.33  \n",
       "226               0            32              7.58  \n",
       "328               0            56              5.99  \n",
       "358               0            63              8.95  "
      ]
     },
     "execution_count": 5,
     "metadata": {},
     "output_type": "execute_result"
    }
   ],
   "source": [
    "ideal_df = weather_df.loc[weather_df[\"Temperature (F)\"] < 80, :]\n",
    "ideal_df = ideal_df.loc[ideal_df[\"Temperature (F)\"] > 70, :]\n",
    "ideal_df = ideal_df.loc[ideal_df[\"Wind Speed (MPH)\"] < 10, :]\n",
    "ideal_df = ideal_df.loc[ideal_df[\"Cloudiness (%)\"] == 0, :]\n",
    "ideal_df"
   ]
  },
  {
   "cell_type": "markdown",
   "metadata": {},
   "source": [
    "### Hotel Map\n",
    "* Store into variable named `hotel_df`.\n",
    "* Add a \"Hotel Name\" column to the DataFrame.\n",
    "* Set parameters to search for hotels with 5000 meters.\n",
    "* Hit the Google Places API for each city's coordinates.\n",
    "* Store the first Hotel result into the DataFrame.\n",
    "* Plot markers on top of the heatmap."
   ]
  },
  {
   "cell_type": "code",
   "execution_count": 6,
   "metadata": {},
   "outputs": [
    {
     "data": {
      "text/html": [
       "<div>\n",
       "<style scoped>\n",
       "    .dataframe tbody tr th:only-of-type {\n",
       "        vertical-align: middle;\n",
       "    }\n",
       "\n",
       "    .dataframe tbody tr th {\n",
       "        vertical-align: top;\n",
       "    }\n",
       "\n",
       "    .dataframe thead th {\n",
       "        text-align: right;\n",
       "    }\n",
       "</style>\n",
       "<table border=\"1\" class=\"dataframe\">\n",
       "  <thead>\n",
       "    <tr style=\"text-align: right;\">\n",
       "      <th></th>\n",
       "      <th>City</th>\n",
       "      <th>Country</th>\n",
       "      <th>Latitude</th>\n",
       "      <th>Longitude</th>\n",
       "      <th>Hotel Name</th>\n",
       "    </tr>\n",
       "  </thead>\n",
       "  <tbody>\n",
       "    <tr>\n",
       "      <th>214</th>\n",
       "      <td>Vīsāvadar</td>\n",
       "      <td>IN</td>\n",
       "      <td>21.38</td>\n",
       "      <td>70.68</td>\n",
       "      <td></td>\n",
       "    </tr>\n",
       "    <tr>\n",
       "      <th>226</th>\n",
       "      <td>Kalamb</td>\n",
       "      <td>IN</td>\n",
       "      <td>19.05</td>\n",
       "      <td>73.95</td>\n",
       "      <td></td>\n",
       "    </tr>\n",
       "    <tr>\n",
       "      <th>328</th>\n",
       "      <td>Caborca</td>\n",
       "      <td>MX</td>\n",
       "      <td>30.58</td>\n",
       "      <td>-111.10</td>\n",
       "      <td></td>\n",
       "    </tr>\n",
       "    <tr>\n",
       "      <th>358</th>\n",
       "      <td>Cockburn Town</td>\n",
       "      <td>TC</td>\n",
       "      <td>21.46</td>\n",
       "      <td>-71.14</td>\n",
       "      <td></td>\n",
       "    </tr>\n",
       "  </tbody>\n",
       "</table>\n",
       "</div>"
      ],
      "text/plain": [
       "              City Country  Latitude  Longitude Hotel Name\n",
       "214      Vīsāvadar      IN     21.38      70.68           \n",
       "226         Kalamb      IN     19.05      73.95           \n",
       "328        Caborca      MX     30.58    -111.10           \n",
       "358  Cockburn Town      TC     21.46     -71.14           "
      ]
     },
     "execution_count": 6,
     "metadata": {},
     "output_type": "execute_result"
    }
   ],
   "source": [
    "hotel_df = ideal_df[[\"City\", \"Country\", \"Latitude\", \"Longitude\"]].copy()\n",
    "hotel_df[\"Hotel Name\"] = \"\"\n",
    "hotel_df  "
   ]
  },
  {
   "cell_type": "code",
   "execution_count": 13,
   "metadata": {},
   "outputs": [
    {
     "data": {
      "text/html": [
       "<div>\n",
       "<style scoped>\n",
       "    .dataframe tbody tr th:only-of-type {\n",
       "        vertical-align: middle;\n",
       "    }\n",
       "\n",
       "    .dataframe tbody tr th {\n",
       "        vertical-align: top;\n",
       "    }\n",
       "\n",
       "    .dataframe thead th {\n",
       "        text-align: right;\n",
       "    }\n",
       "</style>\n",
       "<table border=\"1\" class=\"dataframe\">\n",
       "  <thead>\n",
       "    <tr style=\"text-align: right;\">\n",
       "      <th></th>\n",
       "      <th>City</th>\n",
       "      <th>Country</th>\n",
       "      <th>Latitude</th>\n",
       "      <th>Longitude</th>\n",
       "      <th>Hotel Name</th>\n",
       "    </tr>\n",
       "  </thead>\n",
       "  <tbody>\n",
       "    <tr>\n",
       "      <th>214</th>\n",
       "      <td>Vīsāvadar</td>\n",
       "      <td>IN</td>\n",
       "      <td>21.38</td>\n",
       "      <td>70.68</td>\n",
       "      <td>Brahmanad Dham Guest House</td>\n",
       "    </tr>\n",
       "    <tr>\n",
       "      <th>226</th>\n",
       "      <td>Kalamb</td>\n",
       "      <td>IN</td>\n",
       "      <td>19.05</td>\n",
       "      <td>73.95</td>\n",
       "      <td>Hotel Ravikiran</td>\n",
       "    </tr>\n",
       "    <tr>\n",
       "      <th>328</th>\n",
       "      <td>Caborca</td>\n",
       "      <td>MX</td>\n",
       "      <td>30.58</td>\n",
       "      <td>-111.10</td>\n",
       "      <td>Hotel Los Lagos</td>\n",
       "    </tr>\n",
       "    <tr>\n",
       "      <th>358</th>\n",
       "      <td>Cockburn Town</td>\n",
       "      <td>TC</td>\n",
       "      <td>21.46</td>\n",
       "      <td>-71.14</td>\n",
       "      <td>Osprey Beach Hotel</td>\n",
       "    </tr>\n",
       "  </tbody>\n",
       "</table>\n",
       "</div>"
      ],
      "text/plain": [
       "              City Country  Latitude  Longitude                  Hotel Name\n",
       "214      Vīsāvadar      IN     21.38      70.68  Brahmanad Dham Guest House\n",
       "226         Kalamb      IN     19.05      73.95             Hotel Ravikiran\n",
       "328        Caborca      MX     30.58    -111.10             Hotel Los Lagos\n",
       "358  Cockburn Town      TC     21.46     -71.14          Osprey Beach Hotel"
      ]
     },
     "execution_count": 13,
     "metadata": {},
     "output_type": "execute_result"
    }
   ],
   "source": [
    "for index,row in hotel_df.iterrows():\n",
    "\n",
    "    params = {\"radius\": 5000,\n",
    "            \"type\": \"lodging\",\n",
    "            \"key\": g_key,\n",
    "            \"location\": f\"{row['Latitude']}, {row['Longitude']}\"}\n",
    "       \n",
    "    base_url = \"https://maps.googleapis.com/maps/api/place/nearbysearch/json\"\n",
    "    \n",
    "    response = requests.get(base_url, params=params)\n",
    "    response = response.json()\n",
    "    \n",
    "    hotel_df.loc[index, \"Hotel Name\"] = response[\"results\"][0][\"name\"]\n",
    "\n",
    "hotel_df"
   ]
  },
  {
   "cell_type": "code",
   "execution_count": 14,
   "metadata": {},
   "outputs": [],
   "source": [
    "# NOTE: Do not change any of the code in this cell\n",
    "\n",
    "# Using the template add the hotel marks to the heatmap\n",
    "info_box_template = \"\"\"\n",
    "<dl>\n",
    "<dt>Name</dt><dd>{Hotel Name}</dd>\n",
    "<dt>City</dt><dd>{City}</dd>\n",
    "<dt>Country</dt><dd>{Country}</dd>\n",
    "</dl>\n",
    "\"\"\"\n",
    "# Store the DataFrame Row\n",
    "# NOTE: be sure to update with your DataFrame name\n",
    "hotel_info = [info_box_template.format(**row) for index, row in hotel_df.iterrows()]\n",
    "locations = hotel_df[[\"Latitude\", \"Longitude\"]]"
   ]
  },
  {
   "cell_type": "code",
   "execution_count": 15,
   "metadata": {},
   "outputs": [
    {
     "data": {
      "application/vnd.jupyter.widget-view+json": {
       "model_id": "264c033dfe704de18765f56b9656e9a2",
       "version_major": 2,
       "version_minor": 0
      },
      "text/plain": [
       "Figure(layout=FigureLayout(height='420px'))"
      ]
     },
     "metadata": {},
     "output_type": "display_data"
    }
   ],
   "source": [
    "# Add marker layer ontop of heat map\n",
    "marker_layer = gmaps.marker_layer(locations, info_box_content=hotel_info)\n",
    "fig.add_layer(marker_layer)\n",
    "\n",
    "# Display Map\n",
    "fig"
   ]
  },
  {
   "cell_type": "code",
   "execution_count": null,
   "metadata": {},
   "outputs": [],
   "source": []
  }
 ],
 "metadata": {
  "kernelspec": {
   "display_name": "Python 3",
   "language": "python",
   "name": "python3"
  },
  "language_info": {
   "codemirror_mode": {
    "name": "ipython",
    "version": 3
   },
   "file_extension": ".py",
   "mimetype": "text/x-python",
   "name": "python",
   "nbconvert_exporter": "python",
   "pygments_lexer": "ipython3",
   "version": "3.7.6"
  },
  "latex_envs": {
   "LaTeX_envs_menu_present": true,
   "autoclose": false,
   "autocomplete": true,
   "bibliofile": "biblio.bib",
   "cite_by": "apalike",
   "current_citInitial": 1,
   "eqLabelWithNumbers": true,
   "eqNumInitial": 1,
   "hotkeys": {
    "equation": "Ctrl-E",
    "itemize": "Ctrl-I"
   },
   "labels_anchors": false,
   "latex_user_defs": false,
   "report_style_numbering": false,
   "user_envs_cfg": false
  }
 },
 "nbformat": 4,
 "nbformat_minor": 2
}
